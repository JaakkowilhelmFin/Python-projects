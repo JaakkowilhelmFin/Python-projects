{
 "cells": [
  {
   "cell_type": "code",
   "execution_count": 3,
   "id": "cf283569",
   "metadata": {},
   "outputs": [
    {
     "name": "stdout",
     "output_type": "stream",
     "text": [
      "tervetuloa valitsemaan salasana\n",
      "uusi salasanasi on haisevavuohi-58>\n",
      "haluatko toisen salasanan? K tai EE\n"
     ]
    }
   ],
   "source": [
    "import string\n",
    "import random\n",
    "\n",
    "adjectives = [ \"uninen\", \"hidas\", \"haiseva\", \n",
    "              \"märkä\", \"lihava\", \"punainen\",\n",
    "              \"oranssi\", \"keltainen\", \"vihreä\",\n",
    "            \"sininen\", \"purppura\", \"pörröinen\"\n",
    "              \"valkoinen\", \"leuhka\", \"vilkas\"\n",
    "            ]\n",
    "nouns = [ \"omena\", \"dinosaurus\", \"pallo\"\n",
    "         \"paahdin\", \"vuohi\", \"lohikäärme\"\n",
    "         \"vasara\", \"sorsa\", \"panda\"\n",
    "    \n",
    "        ]\n",
    "\n",
    "print(\"tervetuloa valitsemaan salasana\")\n",
    "\n",
    "while True:\n",
    "    adjective = random.choice(adjectives)\n",
    "    noun = random.choice(nouns)\n",
    "    number = random.randrange(-100, 200)\n",
    "    special_char = random.choice(string.punctuation)\n",
    "    \n",
    "    password = adjective + noun + str(number) + special_char\n",
    "    print(\"uusi salasanasi on \" + password)\n",
    "    \n",
    "    response= input(\"haluatko toisen salasanan? K tai E\")\n",
    "    if response == \"e\" or \"E\":\n",
    "        break"
   ]
  },
  {
   "cell_type": "code",
   "execution_count": null,
   "id": "50cd235f",
   "metadata": {},
   "outputs": [],
   "source": []
  }
 ],
 "metadata": {
  "kernelspec": {
   "display_name": "Python 3 (ipykernel)",
   "language": "python",
   "name": "python3"
  },
  "language_info": {
   "codemirror_mode": {
    "name": "ipython",
    "version": 3
   },
   "file_extension": ".py",
   "mimetype": "text/x-python",
   "name": "python",
   "nbconvert_exporter": "python",
   "pygments_lexer": "ipython3",
   "version": "3.9.10"
  }
 },
 "nbformat": 4,
 "nbformat_minor": 5
}
