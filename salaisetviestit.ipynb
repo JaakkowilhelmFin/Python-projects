{
 "cells": [
  {
   "cell_type": "code",
   "execution_count": 2,
   "id": "32fc2592",
   "metadata": {},
   "outputs": [],
   "source": [
    "from tkinter import messagebox, simpledialog, Tk\n",
    "\n",
    "def is_even(number):\n",
    "    return number % 2 ==0\n",
    "\n",
    "def get_even_letters(message):\n",
    "    even_letters =[]\n",
    "    for counter in range(0, len(message)):\n",
    "        if is_even(counter):\n",
    "            even_letters.append(message[counter])\n",
    "    return even_letters\n",
    "\n",
    "def get_odd_letters(message):\n",
    "    odd_letters = []\n",
    "    for counter in range(0, len(message)):\n",
    "        if not is_even(counter):\n",
    "            odd_letters.append(message[counter])\n",
    "    return odd_letters\n",
    "\n",
    "def swap_letters(message):\n",
    "    letter_list = []\n",
    "    if not is_even(len(message)):\n",
    "        message= message + \"x\"\n",
    "    even_letters = get_even_letters(message)\n",
    "    odd_letters = get_odd_letters(message)\n",
    "    for counter in range(0, int(len(message)/2)):\n",
    "        letter_list.append(odd_letters[counter])\n",
    "        letter_list.append(even_letters[counter])\n",
    "    new_message = \" \".join(letter_list)\n",
    "    return new_message\n",
    "\n",
    "def get_task():\n",
    "    task = simpledialog.askstring(\"tehtävä, \", \"haluatko salata vai purkaa? \")\n",
    "    return task\n",
    "\n",
    "def get_message():\n",
    "    message = simpledialog.askstring(\"viesti\",\" Kirjoita salainen viesti: \")\n",
    "    return message\n",
    "\n",
    "root = Tk()\n",
    "\n",
    "while True:\n",
    "    task = get_task()\n",
    "    if task == \"salaa\":\n",
    "        message = get_message()\n",
    "        encrypted = swap_letters(message)\n",
    "        messagebox.showinfo(\"salattava viesti on :  \", encrypted)\n",
    "    elif task == \"pura\":\n",
    "        message= get_message()\n",
    "        decrypted = swap_letters(message)\n",
    "        messagebox.showinfo(\" purettava viesti on : \", decrypted)\n",
    "    else:\n",
    "        break\n",
    "root.mainloop()\n",
    "\n",
    "        "
   ]
  },
  {
   "cell_type": "code",
   "execution_count": null,
   "id": "14773c87",
   "metadata": {},
   "outputs": [],
   "source": []
  }
 ],
 "metadata": {
  "kernelspec": {
   "display_name": "Python 3 (ipykernel)",
   "language": "python",
   "name": "python3"
  },
  "language_info": {
   "codemirror_mode": {
    "name": "ipython",
    "version": 3
   },
   "file_extension": ".py",
   "mimetype": "text/x-python",
   "name": "python",
   "nbconvert_exporter": "python",
   "pygments_lexer": "ipython3",
   "version": "3.9.10"
  }
 },
 "nbformat": 4,
 "nbformat_minor": 5
}
