{
 "cells": [
  {
   "cell_type": "code",
   "execution_count": 1,
   "id": "9f7a7d27",
   "metadata": {},
   "outputs": [
    {
     "name": "stdout",
     "output_type": "stream",
     "text": [
      "['?', '?', '?', '?', '?']\n",
      "elämiä jäljellä ❤❤❤❤❤❤❤❤❤\n",
      "arvaa kirjan tai koko sana: r\n",
      "väärin, menetit yhden elämän\n",
      "hävisit pelin, oikea sana oli kieli\n",
      "['?', '?', '?', '?', '?']\n",
      "elämiä jäljellä ❤❤❤❤❤❤❤❤\n",
      "arvaa kirjan tai koko sana: k\n",
      "hävisit pelin, oikea sana oli kieli\n",
      "['k', '?', '?', '?', '?']\n",
      "elämiä jäljellä ❤❤❤❤❤❤❤❤\n",
      "arvaa kirjan tai koko sana: kieli\n"
     ]
    }
   ],
   "source": [
    "import random\n",
    "\n",
    "lives = 9\n",
    "words = [ \"pizza\", \"keiju\", \"kieli\", \"paita\", \"sorsa\", \"kirje\"]\n",
    "secret_word = random.choice(words)\n",
    "clue = list(\"?????\")\n",
    "heart_symbol = u\"\\u2764\"\n",
    "guessed_word_correctly= False\n",
    "\n",
    "def update_clue(guessed_letter, secret_word, clue):\n",
    "    index = 0\n",
    "    while index < len(secret_word):\n",
    "        if guessed_letter == secret_word[index]:\n",
    "            clue[index] = guessed_letter\n",
    "        index = index + 1\n",
    "        \n",
    "while lives > 0 :\n",
    "    print(clue)\n",
    "    print(\"elämiä jäljellä \" + heart_symbol * lives)\n",
    "    guess = input(\"arvaa kirjan tai koko sana: \")\n",
    "    \n",
    "    if guess == secret_word:\n",
    "        guessed_word_correctly = True\n",
    "        break\n",
    "        \n",
    "    if guess in secret_word:\n",
    "        update_clue(guess, secret_word, clue)\n",
    "        \n",
    "    else:\n",
    "        print(\"väärin, menetit yhden elämän\")\n",
    "        lives = lives -1\n",
    "        \n",
    "    if guessed_word_correctly:\n",
    "        print(\"oikein, salainen sana oli \" + secret_word )\n",
    "        \n",
    "    else:\n",
    "        print(\"hävisit pelin, oikea sana oli \" + secret_word)"
   ]
  },
  {
   "cell_type": "code",
   "execution_count": null,
   "id": "716d4d7f",
   "metadata": {},
   "outputs": [],
   "source": []
  }
 ],
 "metadata": {
  "kernelspec": {
   "display_name": "Python 3 (ipykernel)",
   "language": "python",
   "name": "python3"
  },
  "language_info": {
   "codemirror_mode": {
    "name": "ipython",
    "version": 3
   },
   "file_extension": ".py",
   "mimetype": "text/x-python",
   "name": "python",
   "nbconvert_exporter": "python",
   "pygments_lexer": "ipython3",
   "version": "3.9.10"
  }
 },
 "nbformat": 4,
 "nbformat_minor": 5
}
