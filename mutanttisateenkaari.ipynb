{
 "cells": [
  {
   "cell_type": "code",
   "execution_count": 1,
   "id": "3385fc8b",
   "metadata": {},
   "outputs": [
    {
     "name": "stdout",
     "output_type": "stream",
     "text": [
      "anna viivan pituus(pitkä, keskipitkä vai lyhyt ?)keskipitkä\n",
      "anna viivan leveys (tosileveä, leveä vai kapea?)leveä\n"
     ]
    },
    {
     "ename": "Terminator",
     "evalue": "",
     "output_type": "error",
     "traceback": [
      "\u001b[1;31m---------------------------------------------------------------------------\u001b[0m",
      "\u001b[1;31mTerminator\u001b[0m                                Traceback (most recent call last)",
      "Input \u001b[1;32mIn [1]\u001b[0m, in \u001b[0;36m<cell line: 56>\u001b[1;34m()\u001b[0m\n\u001b[0;32m     53\u001b[0m t\u001b[38;5;241m.\u001b[39mpensize(line_width)\n\u001b[0;32m     55\u001b[0m \u001b[38;5;28;01mwhile\u001b[39;00m \u001b[38;5;28;01mTrue\u001b[39;00m:\n\u001b[1;32m---> 56\u001b[0m     \u001b[43mmove_turtle\u001b[49m\u001b[43m(\u001b[49m\u001b[43mline_length\u001b[49m\u001b[43m)\u001b[49m\n",
      "Input \u001b[1;32mIn [1]\u001b[0m, in \u001b[0;36mmove_turtle\u001b[1;34m(line_length)\u001b[0m\n\u001b[0;32m     36\u001b[0m \u001b[38;5;28;01mdef\u001b[39;00m \u001b[38;5;21mmove_turtle\u001b[39m(line_length):\n\u001b[0;32m     37\u001b[0m     pen_colors \u001b[38;5;241m=\u001b[39m [\u001b[38;5;124m\"\u001b[39m\u001b[38;5;124mred\u001b[39m\u001b[38;5;124m\"\u001b[39m, \u001b[38;5;124m\"\u001b[39m\u001b[38;5;124morange\u001b[39m\u001b[38;5;124m\"\u001b[39m, \u001b[38;5;124m\"\u001b[39m\u001b[38;5;124myellow\u001b[39m\u001b[38;5;124m\"\u001b[39m, \u001b[38;5;124m\"\u001b[39m\u001b[38;5;124mgreen\u001b[39m\u001b[38;5;124m\"\u001b[39m, \u001b[38;5;124m\"\u001b[39m\u001b[38;5;124mblue\u001b[39m\u001b[38;5;124m\"\u001b[39m, \u001b[38;5;124m\"\u001b[39m\u001b[38;5;124mpurple\u001b[39m\u001b[38;5;124m\"\u001b[39m]\n\u001b[1;32m---> 38\u001b[0m     \u001b[43mt\u001b[49m\u001b[38;5;241;43m.\u001b[39;49m\u001b[43mpencolor\u001b[49m\u001b[43m(\u001b[49m\u001b[43mrandom\u001b[49m\u001b[38;5;241;43m.\u001b[39;49m\u001b[43mchoice\u001b[49m\u001b[43m(\u001b[49m\u001b[43mpen_colors\u001b[49m\u001b[43m)\u001b[49m\u001b[43m)\u001b[49m\n\u001b[0;32m     39\u001b[0m     \u001b[38;5;28;01mif\u001b[39;00m inside_window():\n\u001b[0;32m     40\u001b[0m         angle \u001b[38;5;241m=\u001b[39m random\u001b[38;5;241m.\u001b[39mrandint(\u001b[38;5;241m0\u001b[39m,\u001b[38;5;241m180\u001b[39m)\n",
      "File \u001b[1;32m<string>:5\u001b[0m, in \u001b[0;36mpencolor\u001b[1;34m(*args)\u001b[0m\n",
      "\u001b[1;31mTerminator\u001b[0m: "
     ]
    }
   ],
   "source": [
    "import random\n",
    "import turtle as t\n",
    "\n",
    "def get_line_length():\n",
    "    choice = input(\"anna viivan pituus(pitkä, keskipitkä vai lyhyt ?)\")\n",
    "    if choice == \"pitkä\":\n",
    "        line_length = 300\n",
    "    if choice == \"keskipitkä\":\n",
    "        line_length = 200\n",
    "    else:\n",
    "        line_length = 100\n",
    "    return line_length\n",
    "\n",
    "def get_line_width():\n",
    "    choice = input(\"anna viivan leveys (tosileveä, leveä vai kapea?)\")\n",
    "    \n",
    "    if choice == \"tosileveä\":\n",
    "        line_width = 50\n",
    "        \n",
    "    if choice == \"leveä\":\n",
    "        line_width = 30\n",
    "        \n",
    "    else:\n",
    "        line_width = 10\n",
    "    return line_width\n",
    "\n",
    "def inside_window():\n",
    "    left_limit = (-t.window_width() / 2) + 100\n",
    "    right_limit = (t.window_width()/2) - 100\n",
    "    top_limit = (t.window_height()/2) - 100\n",
    "    bottom_limit = (-t.window_height()/ 2) + 100\n",
    "    (x, y) = t.pos()\n",
    "    inside = left_limit < x < right_limit and bottom_limit < y < top_limit\n",
    "    return inside\n",
    "\n",
    "def move_turtle(line_length):\n",
    "    pen_colors = [\"red\", \"orange\", \"yellow\", \"green\", \"blue\", \"purple\"]\n",
    "    t.pencolor(random.choice(pen_colors))\n",
    "    if inside_window():\n",
    "        angle = random.randint(0,180)\n",
    "        t.right(angle)\n",
    "        t.forward(line_length)\n",
    "    else:\n",
    "        t.backward(line_length)\n",
    "        \n",
    "line_length = get_line_length()\n",
    "line_width = get_line_width()\n",
    "\n",
    "t.shape(\"turtle\")\n",
    "t.fillcolor(\"green\")\n",
    "t.bgcolor(\"black\")\n",
    "t.speed(\"fastest\")\n",
    "t.pensize(line_width)\n",
    "\n",
    "while True:\n",
    "    move_turtle(line_length)"
   ]
  },
  {
   "cell_type": "code",
   "execution_count": null,
   "id": "87950af0",
   "metadata": {},
   "outputs": [],
   "source": []
  }
 ],
 "metadata": {
  "kernelspec": {
   "display_name": "Python 3 (ipykernel)",
   "language": "python",
   "name": "python3"
  },
  "language_info": {
   "codemirror_mode": {
    "name": "ipython",
    "version": 3
   },
   "file_extension": ".py",
   "mimetype": "text/x-python",
   "name": "python",
   "nbconvert_exporter": "python",
   "pygments_lexer": "ipython3",
   "version": "3.9.10"
  }
 },
 "nbformat": 4,
 "nbformat_minor": 5
}
