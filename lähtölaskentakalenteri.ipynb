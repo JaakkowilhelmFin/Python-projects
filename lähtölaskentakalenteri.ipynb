{
 "cells": [
  {
   "cell_type": "code",
   "execution_count": 3,
   "id": "67145627",
   "metadata": {},
   "outputs": [],
   "source": [
    "from tkinter import Tk, Canvas\n",
    "from datetime import date, datetime\n",
    "\n",
    "def get_events():\n",
    "    list_events = []\n",
    "    with open(\"tapahtumat.txt\") as file:\n",
    "        \n",
    "        for line in file:\n",
    "            line = line.rstrip(\"\\n\")\n",
    "            current_event = line.split(\",\")\n",
    "            event_date = datetime.strptime(current_event[1], \"%Y/%m/%d\").date()\n",
    "            current_event[1]= event_date\n",
    "            list_events.append(current_event)\n",
    "    return list_events\n",
    "\n",
    "#tähän asti ok \n",
    "\n",
    "def days_between_dates(date1, date2):\n",
    "    time_between = str(date1 - date2)\n",
    "    number_of_days = time_between.split(\" \")\n",
    "    return number_of_days[0]\n",
    "\n",
    "root = Tk()\n",
    "\n",
    "c = Canvas(root, width = 800, height= 800, bg = \"black\")\n",
    "c.pack()\n",
    "c.create_text(100, 50, anchor = \"w\", fill = \"orange\", font = \"Arial 28 bold underline\", \\\n",
    "             text = \"lähtölaskentakalenteri\")\n",
    "\n",
    "events = get_events()\n",
    "today = date.today()\n",
    "\n",
    "vertical_space = 100\n",
    "\n",
    "for event in events:\n",
    "    event_name = event[0]\n",
    "    days_until = days_between_dates(event[1], today)\n",
    "    display = \"enään %s päivää, sitten on %s\" % (days_until, event_name)\n",
    "    c.create_text(100, vertical_space, anchor = \"w\", fill = \"lightblue\", \\\n",
    "                 font = \"Arial 28 bold\", text = display)\n",
    "    \n",
    "    vertical_space = vertical_space + 30 \n",
    "    \n",
    "root.mainloop()\n",
    "#ylhäällä oleva komento piti olla. päivämäärät oletuksena nyt pythonissa ymd, jolloin myös tiedostossa pitää olla niin, 4 numeroiset numerot \n",
    "#pitää kirjoittaa isolla kirjaimella koodiin. \n"
   ]
  },
  {
   "cell_type": "code",
   "execution_count": 5,
   "id": "76a2430a",
   "metadata": {},
   "outputs": [
    {
     "name": "stdout",
     "output_type": "stream",
     "text": [
      "5\n"
     ]
    }
   ],
   "source": [
    "from datetime import *\n",
    "print(date(1996, 5, 18).weekday())\n",
    "##ymd"
   ]
  },
  {
   "cell_type": "code",
   "execution_count": null,
   "id": "d739efeb",
   "metadata": {},
   "outputs": [],
   "source": []
  }
 ],
 "metadata": {
  "kernelspec": {
   "display_name": "Python 3 (ipykernel)",
   "language": "python",
   "name": "python3"
  },
  "language_info": {
   "codemirror_mode": {
    "name": "ipython",
    "version": 3
   },
   "file_extension": ".py",
   "mimetype": "text/x-python",
   "name": "python",
   "nbconvert_exporter": "python",
   "pygments_lexer": "ipython3",
   "version": "3.9.10"
  }
 },
 "nbformat": 4,
 "nbformat_minor": 5
}
