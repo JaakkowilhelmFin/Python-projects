{
 "cells": [
  {
   "cell_type": "code",
   "execution_count": 5,
   "id": "aa0a47b9",
   "metadata": {},
   "outputs": [],
   "source": [
    "import random\n",
    "import time\n",
    "from tkinter import Tk, Button, DISABLED\n",
    "\n",
    "def show_symbol(x, y):\n",
    "    global first\n",
    "    global previousX, previousY\n",
    "    buttons[x, y][\"text\"] = button_symbols[x, y]\n",
    "    buttons[x, y].update_idletasks()\n",
    "    \n",
    "    if first:\n",
    "        previousX = x\n",
    "        previousY = y\n",
    "        first = False\n",
    "    elif previousX !=x or previousY != y:\n",
    "        if buttons[previousX, previousY][\"text\"] != buttons[x, y][\"text\"]:\n",
    "            time.sleep(0.5)\n",
    "            buttons[previousX, previousY][\"text\"] = \"\"\n",
    "            buttons[x, y][\"text\"] = \"\"\n",
    "        else:\n",
    "            buttons[previousX, previousY][\"command\"] = DISABLED\n",
    "            buttons[x, y][\"command\"] = DISABLED\n",
    "        first = True\n",
    "        \n",
    "root = Tk()\n",
    "root.title(\"parinetsintä\")\n",
    "root.resizable(width = False, height = False)\n",
    "buttons = {}\n",
    "first = True\n",
    "previousX = 0\n",
    "previousY = 0\n",
    "button_symbols = {}\n",
    "symbols = [u\"\\u2702\", u\"\\u2702\", u\"\\u2705\", u\"\\u2705\", u\"\\u2708\", u\"\\u2708\", u\"\\u2709\", u\"\\u2709\", u\"\\u270A\", u\"\\u270A\", u\"\\u270B\", u\"\\u270B\",u\"\\u270C\",u\"\\u270C\", u\"\\u270F\", u\"\\u270F\", u\"\\u2712\", u\"\\u2712\", u\"\\u2714\", u\"\\u2714\", u\"\\u2716\", u\"\\u2716\", u\"\\u2728\", u\"\\u2728\"]\n",
    "random.shuffle(symbols)\n",
    "\n",
    "for x in range(6):\n",
    "    for y in range(4):\n",
    "        button = Button(command = lambda x= x, y = y: show_symbol(x,y), width = 3, height = 3)\n",
    "        button.grid(column = x, row = y)\n",
    "        buttons[x, y] = button\n",
    "        button_symbols[x, y] = symbols.pop()\n",
    "    \n",
    "    \n",
    "root.mainloop()    \n",
    "    "
   ]
  },
  {
   "cell_type": "code",
   "execution_count": null,
   "id": "08cdb9ba",
   "metadata": {},
   "outputs": [],
   "source": []
  }
 ],
 "metadata": {
  "kernelspec": {
   "display_name": "Python 3 (ipykernel)",
   "language": "python",
   "name": "python3"
  },
  "language_info": {
   "codemirror_mode": {
    "name": "ipython",
    "version": 3
   },
   "file_extension": ".py",
   "mimetype": "text/x-python",
   "name": "python",
   "nbconvert_exporter": "python",
   "pygments_lexer": "ipython3",
   "version": "3.9.10"
  }
 },
 "nbformat": 4,
 "nbformat_minor": 5
}
