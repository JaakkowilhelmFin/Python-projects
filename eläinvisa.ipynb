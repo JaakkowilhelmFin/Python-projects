{
 "cells": [
  {
   "cell_type": "code",
   "execution_count": 4,
   "id": "612b499d",
   "metadata": {},
   "outputs": [
    {
     "name": "stdout",
     "output_type": "stream",
     "text": [
      "arvaa elukka\n",
      "mikä eläin asuu pohjoisnavallajääkarhu\n",
      "oikea vastaus\n",
      "mikä on nopein maaeläin? gepardi\n",
      "oikea vastaus\n",
      "mikä on metsän kuningas? karhu\n",
      "oikea vastaus\n",
      "pistemääräsi on  3\n"
     ]
    }
   ],
   "source": [
    "def check_guess(guess, answer):\n",
    "    global score\n",
    "    still_guessing = True\n",
    "    attempt = 0\n",
    "    while still_guessing and attempt < 3:\n",
    "        if guess.lower()== answer.lower():\n",
    "            print(\"oikea vastaus\")\n",
    "            score = score + 1\n",
    "            still_guessing = False\n",
    "        else:\n",
    "            if attempt <2:\n",
    "                guess = input(\"väärin, yritä uudelleen\")\n",
    "                attempt = attempt + 1\n",
    "                \n",
    "        if attempt == 3:\n",
    "            print(\"oikea vastaus on \" + answer)\n",
    "            \n",
    "score = 0\n",
    "\n",
    "print(\"arvaa elukka\")\n",
    "guess1 = input(\"mikä eläin asuu pohjoisnavalla\")\n",
    "check_guess(guess1, \"jääkarhu\")\n",
    "guess2 = input(\"mikä on nopein maaeläin? \")\n",
    "check_guess(guess2, \"gepardi\")\n",
    "guess3 = input(\"mikä on metsän kuningas? \")\n",
    "check_guess(guess3, \"karhu\" or \"mesikämmen\")\n",
    "\n",
    "print(\"pistemääräsi on  \" + str(score))\n",
    "            \n",
    "        "
   ]
  },
  {
   "cell_type": "code",
   "execution_count": null,
   "id": "86ebe7cc",
   "metadata": {},
   "outputs": [],
   "source": []
  }
 ],
 "metadata": {
  "kernelspec": {
   "display_name": "Python 3 (ipykernel)",
   "language": "python",
   "name": "python3"
  },
  "language_info": {
   "codemirror_mode": {
    "name": "ipython",
    "version": 3
   },
   "file_extension": ".py",
   "mimetype": "text/x-python",
   "name": "python",
   "nbconvert_exporter": "python",
   "pygments_lexer": "ipython3",
   "version": "3.9.10"
  }
 },
 "nbformat": 4,
 "nbformat_minor": 5
}
