{
 "cells": [
  {
   "cell_type": "code",
   "execution_count": null,
   "id": "08bd9d45",
   "metadata": {},
   "outputs": [],
   "source": [
    "from tkinter import Tk, simpledialog, messagebox\n",
    "\n",
    "def read_from_file():\n",
    "    with open(\"pääkaupungit.txt\") as file:\n",
    "        for line in file: \n",
    "            line = line.rstrip(\"\\n\") # poistaa rivin vaihtomerkin\n",
    "            country, city = line.split(\"/\")\n",
    "            the_world[country] = city\n",
    "            \n",
    "def write_to_file(country_name, city_name):\n",
    "    with open(\"pääkaupungit.txt\", \"a\") as file: # a tarkoittaa uusien tietojen lisäämistä loppuun\n",
    "        file.write(\"\\n\" + country_name + \"/\" + city_name)\n",
    "\n",
    "print(\"Kysy asiantuntijalta- maailman pääkaupungit\")\n",
    "root = Tk()\n",
    "root.withdraw()\n",
    "the_world = {}\n",
    "\n",
    "read_from_file()\n",
    "\n",
    "while True:\n",
    "    query_country = simpledialog.askstring(\"maa\", \"kirjoita maan nimi: \")\n",
    "    \n",
    "    if query_country in the_world: \n",
    "        result = the_world[query_country]\n",
    "        messagebox.showinfo(\"vastaus, \" , \"maa \" , query_country , \"pääkaupunki on \" , result , \"!\")\n",
    "    else:\n",
    "        new_city= simpledialog.askstring(\"uusi maa, opeta minua \" , \" mikä pääkaupunki? \" , query_country , \"?\")\n",
    "        the_world[query_country]= new_city\n",
    "        write_to_file(query_country, new_city)\n",
    "        \n",
    "root.mainloop()\n",
    "\n",
    "#name 'querry_country' is not defined??? + testattu "
   ]
  },
  {
   "cell_type": "code",
   "execution_count": 14,
   "id": "47d0f0ec",
   "metadata": {},
   "outputs": [
    {
     "name": "stdout",
     "output_type": "stream",
     "text": [
      "Suomi\n"
     ]
    },
    {
     "ename": "NameError",
     "evalue": "name 'country_name' is not defined",
     "output_type": "error",
     "traceback": [
      "\u001b[1;31m---------------------------------------------------------------------------\u001b[0m",
      "\u001b[1;31mNameError\u001b[0m                                 Traceback (most recent call last)",
      "Input \u001b[1;32mIn [14]\u001b[0m, in \u001b[0;36m<cell line: 2>\u001b[1;34m()\u001b[0m\n\u001b[0;32m      1\u001b[0m \u001b[38;5;28mprint\u001b[39m(query_country)\n\u001b[1;32m----> 2\u001b[0m \u001b[38;5;28mprint\u001b[39m(query_country[\u001b[43mcountry_name\u001b[49m])\n",
      "\u001b[1;31mNameError\u001b[0m: name 'country_name' is not defined"
     ]
    }
   ],
   "source": []
  },
  {
   "cell_type": "code",
   "execution_count": null,
   "id": "84d89b0c",
   "metadata": {},
   "outputs": [],
   "source": []
  },
  {
   "cell_type": "code",
   "execution_count": null,
   "id": "73ea9c5e",
   "metadata": {},
   "outputs": [],
   "source": []
  }
 ],
 "metadata": {
  "kernelspec": {
   "display_name": "Python 3 (ipykernel)",
   "language": "python",
   "name": "python3"
  },
  "language_info": {
   "codemirror_mode": {
    "name": "ipython",
    "version": 3
   },
   "file_extension": ".py",
   "mimetype": "text/x-python",
   "name": "python",
   "nbconvert_exporter": "python",
   "pygments_lexer": "ipython3",
   "version": "3.9.10"
  }
 },
 "nbformat": 4,
 "nbformat_minor": 5
}
